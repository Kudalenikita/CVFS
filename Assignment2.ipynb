{
  "nbformat": 4,
  "nbformat_minor": 0,
  "metadata": {
    "colab": {
      "provenance": [],
      "authorship_tag": "ABX9TyO3XacDnSEJarCNssSCX7mx",
      "include_colab_link": true
    },
    "kernelspec": {
      "name": "python3",
      "display_name": "Python 3"
    },
    "language_info": {
      "name": "python"
    }
  },
  "cells": [
    {
      "cell_type": "markdown",
      "metadata": {
        "id": "view-in-github",
        "colab_type": "text"
      },
      "source": [
        "<a href=\"https://colab.research.google.com/github/Kudalenikita/CVFS/blob/main/Assignment2.ipynb\" target=\"_parent\"><img src=\"https://colab.research.google.com/assets/colab-badge.svg\" alt=\"Open In Colab\"/></a>"
      ]
    },
    {
      "cell_type": "code",
      "execution_count": 2,
      "metadata": {
        "colab": {
          "base_uri": "https://localhost:8080/"
        },
        "id": "pXyyN1By_HYr",
        "outputId": "8d33bd0c-2a71-4423-9abe-42c5f4e4555f"
      },
      "outputs": [
        {
          "output_type": "stream",
          "name": "stdout",
          "text": [
            "Enter your Name please: Nikita Kudale\n",
            "Enter your age21\n",
            "Your Name is 'Nikita Kudale' and age is '21'\n"
          ]
        }
      ],
      "source": [
        "#1. Basic Input/Output\n",
        "name = input(\"Enter your Name please: \")\n",
        "age = int(input(\"Enter your age\"))\n",
        "\n",
        "#Displaying\n",
        "print(f\"Your Name is '{name}' and age is '{age}'\")\n"
      ]
    },
    {
      "cell_type": "markdown",
      "source": [
        "# New Section"
      ],
      "metadata": {
        "id": "lz2Wp0C7GJmT"
      }
    },
    {
      "cell_type": "markdown",
      "source": [
        "# New Section"
      ],
      "metadata": {
        "id": "pgnc1SPSGLg7"
      }
    },
    {
      "cell_type": "code",
      "source": [
        "#2. Data Types & Operations Create variables of type integer, float, string, and boolean. Print their values and types\n",
        "#creating Different variable of different data type\n",
        "int_var = 34\n",
        "float_var = 80.99\n",
        "string_var = \"Jay Ganesh\"\n",
        "boolean_var = True\n",
        "\n",
        "#printing values and their types\n",
        "\n",
        "print(int_var ,\"->\", type(int_var))\n",
        "print(float_var, \"->\" ,type(float_var))\n",
        "print(string_var ,\"->\" ,type(string_var))\n",
        "print(boolean_var, \"->\" ,type(boolean_var))\n",
        "\n"
      ],
      "metadata": {
        "colab": {
          "base_uri": "https://localhost:8080/"
        },
        "id": "1yf9qXnqBNIa",
        "outputId": "58bd7316-4793-4bd1-97b7-86076a45585a"
      },
      "execution_count": 4,
      "outputs": [
        {
          "output_type": "stream",
          "name": "stdout",
          "text": [
            "34 -> <class 'int'>\n",
            "80.99 -> <class 'float'>\n",
            "Jay Ganesh -> <class 'str'>\n",
            "True -> <class 'bool'>\n"
          ]
        }
      ]
    },
    {
      "cell_type": "code",
      "source": [
        "#Conditional Statements Write a Python program to check whether a number entered by the user is even or odd.\n",
        "\n",
        "No = int(input(\"Enter Number: \"))\n",
        "if No % 2 == 0:\n",
        "  print(f\"'{No}' is even\")\n",
        "else:\n",
        "  print(f\"'{No}' is Odd\")"
      ],
      "metadata": {
        "colab": {
          "base_uri": "https://localhost:8080/"
        },
        "id": "DMYx5xvmCqr_",
        "outputId": "e1fa37c0-82b5-46ac-9b5c-9dcba65be661"
      },
      "execution_count": 6,
      "outputs": [
        {
          "output_type": "stream",
          "name": "stdout",
          "text": [
            "Enter Number: 99\n",
            "'99' is Odd\n"
          ]
        }
      ]
    },
    {
      "cell_type": "code",
      "source": [
        "#4. Loops Write a program to print the multiplication table of a number entered by the user.\n",
        "# Taking input from the user\n",
        "num = int(input(\"Enter a number: \"))\n",
        "\n",
        "# Printing multiplication table\n",
        "print(f\"\\nMultiplication Table of {num}:\")\n",
        "for i in range(1, 11):\n",
        "    print(f\"{num} x {i} = {num * i}\")\n"
      ],
      "metadata": {
        "colab": {
          "base_uri": "https://localhost:8080/"
        },
        "id": "SHDfiKo2D1Y5",
        "outputId": "1767e06a-68a9-4f76-d9ec-4b5a821b4705"
      },
      "execution_count": 7,
      "outputs": [
        {
          "output_type": "stream",
          "name": "stdout",
          "text": [
            "Enter a number: 6\n",
            "\n",
            "Multiplication Table of 6:\n",
            "6 x 1 = 6\n",
            "6 x 2 = 12\n",
            "6 x 3 = 18\n",
            "6 x 4 = 24\n",
            "6 x 5 = 30\n",
            "6 x 6 = 36\n",
            "6 x 7 = 42\n",
            "6 x 8 = 48\n",
            "6 x 9 = 54\n",
            "6 x 10 = 60\n"
          ]
        }
      ]
    },
    {
      "cell_type": "code",
      "source": [
        "#5. Functions Write a function that takes two numbers as arguments and returns their sum.\n",
        "# Function definition\n",
        "def add_numbers(a, b):\n",
        "    return a + b\n",
        "\n",
        "# Taking inputs from user\n",
        "num1 = float(input(\"Enter first number: \"))\n",
        "num2 = float(input(\"Enter second number: \"))\n",
        "\n",
        "# Calling the function and displaying the result\n",
        "result = add_numbers(num1, num2)\n",
        "print(f\"The sum of {num1} and {num2} is {result}\")\n"
      ],
      "metadata": {
        "colab": {
          "base_uri": "https://localhost:8080/"
        },
        "id": "kRRxPGaiELH_",
        "outputId": "df636b66-f36a-43c4-c7dd-2865b9bdfefb"
      },
      "execution_count": 8,
      "outputs": [
        {
          "output_type": "stream",
          "name": "stdout",
          "text": [
            "Enter first number: 6\n",
            "Enter second number: 8\n",
            "The sum of 6.0 and 8.0 is 14.0\n"
          ]
        }
      ]
    },
    {
      "cell_type": "markdown",
      "source": [
        "# New Section"
      ],
      "metadata": {
        "id": "3bLhnMZYGOTX"
      }
    },
    {
      "cell_type": "code",
      "source": [
        "# Simple Calculator\n",
        "\n",
        "# Taking two numbers as input\n",
        "num1 = float(input(\"Enter the first number: \"))\n",
        "num2 = float(input(\"Enter the second number: \"))\n",
        "\n",
        "# Asking user to choose an operation\n",
        "print(\"\\nChoose operation:\")\n",
        "print(\"+ for Addition\")\n",
        "print(\"- for Subtraction\")\n",
        "print(\"* for Multiplication\")\n",
        "print(\"/ for Division\")\n",
        "\n",
        "choice = input(\"Enter your choice (+, -, *, /): \")\n",
        "\n",
        "# Performing the operation\n",
        "if choice == \"+\":\n",
        "    result = num1 + num2\n",
        "    print(f\"\\nResult: {num1} + {num2} = {result}\")\n",
        "\n",
        "elif choice == \"-\":\n",
        "    result = num1 - num2\n",
        "    print(f\"\\nResult: {num1} - {num2} = {result}\")\n",
        "\n",
        "elif choice == \"*\":\n",
        "    result = num1 * num2\n",
        "    print(f\"\\nResult: {num1} * {num2} = {result}\")\n",
        "\n",
        "elif choice == \"/\":\n",
        "    if num2 != 0:\n",
        "        result = num1 / num2\n",
        "        print(f\"\\nResult: {num1} / {num2} = {result}\")\n",
        "    else:\n",
        "        print(\"\\nError: Division by zero is not allowed.\")\n",
        "\n",
        "else:\n",
        "    print(\"\\nInvalid operation choice.\")\n"
      ],
      "metadata": {
        "colab": {
          "base_uri": "https://localhost:8080/"
        },
        "id": "lCTlC8__GPFn",
        "outputId": "7e097603-7ecc-483e-eaac-2bb1124428bd"
      },
      "execution_count": 11,
      "outputs": [
        {
          "output_type": "stream",
          "name": "stdout",
          "text": [
            "Enter the first number: 10\n",
            "Enter the second number: 10\n",
            "\n",
            "Choose operation:\n",
            "+ for Addition\n",
            "- for Subtraction\n",
            "* for Multiplication\n",
            "/ for Division\n",
            "Enter your choice (+, -, *, /): *\n",
            "\n",
            "Result: 10.0 * 10.0 = 100.0\n"
          ]
        }
      ]
    }
  ]
}