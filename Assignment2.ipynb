{
  "nbformat": 4,
  "nbformat_minor": 0,
  "metadata": {
    "colab": {
      "provenance": [],
      "authorship_tag": "ABX9TyPOhk8U93lxKcP4pKUjx2F4",
      "include_colab_link": true
    },
    "kernelspec": {
      "name": "python3",
      "display_name": "Python 3"
    },
    "language_info": {
      "name": "python"
    }
  },
  "cells": [
    {
      "cell_type": "markdown",
      "metadata": {
        "id": "view-in-github",
        "colab_type": "text"
      },
      "source": [
        "<a href=\"https://colab.research.google.com/github/Kudalenikita/CVFS/blob/main/Assignment2.ipynb\" target=\"_parent\"><img src=\"https://colab.research.google.com/assets/colab-badge.svg\" alt=\"Open In Colab\"/></a>"
      ]
    },
    {
      "cell_type": "code",
      "execution_count": 2,
      "metadata": {
        "colab": {
          "base_uri": "https://localhost:8080/"
        },
        "id": "sjh42YS-CQG-",
        "outputId": "ce3362f8-f370-47e9-e830-16a74b4abb34"
      },
      "outputs": [
        {
          "output_type": "stream",
          "name": "stdout",
          "text": [
            "Enter USD :8\n",
            "Amount in INR in int:  664\n",
            "Amount in INR in float:  664.96\n"
          ]
        }
      ],
      "source": [
        "#A.Type conversion practice\n",
        "#input amount in usd convert to INR(1USD = 83.12INR) and display both integer and float varaible\n",
        "\n",
        "\n",
        "#1.Currency converter\n",
        "\n",
        "USD_INR_CON = 83.12\n",
        "\n",
        "USD = int(input(\"Enter USD :\"))\n",
        "\n",
        "INR_float = USD * USD_INR_CON\n",
        "INR_int = int(INR_float)\n",
        "\n",
        "print(\"Amount in INR in int: \",INR_int)\n",
        "print(\"Amount in INR in float: \",INR_float)"
      ]
    },
    {
      "cell_type": "code",
      "source": [
        "#Shopping cart Total\n",
        "#Ask User for Two item prices(as string),display concantenated price(string) and total price(integer sum)\n",
        "x= input(\"Enter your price of first product you brought:\")\n",
        "y = input(\"Enter your price of Secound product you brought:\")\n",
        "z = x+y\n",
        "Con_price = z\n",
        "Total_price = int(x) + int(y)\n",
        "print(\"Concanated Price of product as String: \",Con_price)\n",
        "print(\"Total Price of product as integer: \",Total_price)"
      ],
      "metadata": {
        "colab": {
          "base_uri": "https://localhost:8080/"
        },
        "id": "W-_O8Q0XrFYh",
        "outputId": "b2168b59-a463-4e49-a944-dd1dd3be25b9"
      },
      "execution_count": 5,
      "outputs": [
        {
          "output_type": "stream",
          "name": "stdout",
          "text": [
            "Enter your price of first product you brought:80\n",
            "Enter your price of Secound product you brought:89\n",
            "Concanated Price of product as String:  8089\n",
            "Total Price of product as integer:  169\n"
          ]
        }
      ]
    },
    {
      "cell_type": "code",
      "source": [
        "#TEmprature Convertor\n",
        "#Convert a celsius value entered by user into Fahrenheit(float) and Kelvin(float) and also display rounded integer value\n",
        "#Fahrenheit (°F) = (Celsius × 9/5) + 32\n",
        "#Kelvin (K) = Celsius + 273.15\n",
        "\n",
        "celsius = float(input(\"Enter celsius value: \"))\n",
        "F = (celsius * 9/ 5) +32\n",
        "K = celsius +273.15\n",
        "\n",
        "print(\"Fahrenheit(float) value is: \",F)\n",
        "print(\"Kelvin(float) value is: \",K)\n",
        "\n",
        "print(\"Rounded temperature in Fahrenheit (integer):\", round(F))\n",
        "print(\"Rounded temperature in Kelvin (integer):\", round(K))"
      ],
      "metadata": {
        "colab": {
          "base_uri": "https://localhost:8080/"
        },
        "id": "DkfEA6o6vMiO",
        "outputId": "bff8cda7-f934-4d5d-c175-17d29ffc8f4f"
      },
      "execution_count": 6,
      "outputs": [
        {
          "output_type": "stream",
          "name": "stdout",
          "text": [
            "Enter celsius value: 7\n",
            "Fahrenheit(float) value is:  44.6\n",
            "Kelvin(float) value is:  280.15\n",
            "Rounded temperature in Fahrenheit (integer): 45\n",
            "Rounded temperature in Kelvin (integer): 280\n"
          ]
        }
      ]
    },
    {
      "cell_type": "code",
      "source": [
        "#Digital Clock Secound  Counter\n",
        "# Input hours and minutes as integers, convert total time into secound(int)\n",
        "\n",
        "HR = int(input(\"Enter Hours : \"))\n",
        "Min= int(input(\"Enter Minutes: \"))\n",
        "\n",
        "Total_Time = ((HR* 3600)+(Min*60))\n",
        "\n",
        "print(\"Total time in sec is : \",Total_Time)"
      ],
      "metadata": {
        "colab": {
          "base_uri": "https://localhost:8080/"
        },
        "id": "Au4lpVMDxKDS",
        "outputId": "99be9817-ce67-4777-85e3-af144cf87984"
      },
      "execution_count": 12,
      "outputs": [
        {
          "output_type": "stream",
          "name": "stdout",
          "text": [
            "Enter Hours : 0\n",
            "Enter Minutes: 1\n",
            "Total time in sec is :  60\n"
          ]
        }
      ]
    },
    {
      "cell_type": "code",
      "source": [
        "#Exam Score Processing\n",
        "#Taking Student marks in float , store as int(rounded down) for record-Keeping ,display both\n",
        "OS =float(input(\"Enter marks in Operating System: \"))\n",
        "CN =float(input(\"Enter marks in Computer Network \"))\n",
        "BCN =float(input(\"Enter marks in BCN: \"))\n",
        "\n",
        "print(\"------------------------------------------------------------\")\n",
        "\n",
        "print(\"float value of Operating System: \",(OS))\n",
        "print(\"float value of  Computer Network : \",(CN))\n",
        "print(\"float value of  BCN: \",(BCN))\n",
        "\n",
        "print(\"------------------------------------------------------------\")\n",
        "\n",
        "print(\"Rounded Marks of Operating System: \",round(OS))\n",
        "print(\"Rounded Marks of  Computer Network : \",round(CN))\n",
        "print(\"Rounded Marks of BCN: \",round(BCN))\n"
      ],
      "metadata": {
        "colab": {
          "base_uri": "https://localhost:8080/"
        },
        "id": "m-_5H2Qgzx9B",
        "outputId": "7fd0c32f-eece-4485-acf1-4be7b0b55143"
      },
      "execution_count": 14,
      "outputs": [
        {
          "output_type": "stream",
          "name": "stdout",
          "text": [
            "Enter marks in Operating System: 60.9\n",
            "Enter marks in Computer Network 50.8\n",
            "Enter marks in BCN: 55\n",
            "------------------------------------------------------------\n",
            "float value of Operating System:  60.9\n",
            "float value of  Computer Network :  50.8\n",
            "float value of  BCN:  55.0\n",
            "------------------------------------------------------------\n",
            "Rounded Marks of Operating System:  61\n",
            "Rounded Marks of  Computer Network :  51\n",
            "Rounded Marks of BCN:  55\n"
          ]
        }
      ]
    },
    {
      "cell_type": "code",
      "source": [
        "#B.if-else practice\n",
        "#Odd and Even Eligiblity\n",
        "#Input age,check if eligible to vote.If yes, check if age is odd or even\n",
        "\n",
        "age = int(input(\"Enter Age: \"))\n",
        "if(age >= 18):\n",
        "  print(\"YOUR ELIIBLE FOR VOTE!!!!\")\n",
        "  if(age %2 == 0):\n",
        "    print(\"Age is Even\")\n",
        "  else:\n",
        "    print(\"Age is Odd\")\n",
        "else:\n",
        "  print(\"Your not eligible..Sorry!\")"
      ],
      "metadata": {
        "colab": {
          "base_uri": "https://localhost:8080/"
        },
        "id": "Lg3gVltl03WY",
        "outputId": "0d7f09af-e65f-403a-ee36-79f7feec5f7b"
      },
      "execution_count": 17,
      "outputs": [
        {
          "output_type": "stream",
          "name": "stdout",
          "text": [
            "Enter Age: 30\n",
            "YOUR ELIIBLE FOR VOTE!!!!\n",
            "Age is Even\n"
          ]
        }
      ]
    },
    {
      "cell_type": "code",
      "source": [
        "#Discount Eligiblity\n",
        "#input bill amount: if>=1000-> 10% discount\n",
        "#Else not discount\n",
        "\n",
        "price = int(input(\"Enter Total bill Amount: \"))\n",
        "if(price >= 1000):\n",
        "   print(\"Congratulation ...You Will got 10% Discount\")\n",
        "else:\n",
        "  print(\"Sorry!!! NO Discount\")"
      ],
      "metadata": {
        "colab": {
          "base_uri": "https://localhost:8080/"
        },
        "id": "W4cXPy5p34Ap",
        "outputId": "1f144d29-4e84-4113-bf3d-6987d5631cc1"
      },
      "execution_count": 19,
      "outputs": [
        {
          "output_type": "stream",
          "name": "stdout",
          "text": [
            "Enter Total bill Amount: 12000\n",
            "Congratulation ...You Will got 10% Discount\n"
          ]
        }
      ]
    },
    {
      "cell_type": "code",
      "source": [
        "#Speed Fine Calculator->\n",
        "#input vehicle speed: <= 60 :No fine\n",
        "#60-> rupees 200 fine\n",
        "\n",
        "print(\"Calculator for Fine on Vehicle Speed\")\n",
        "speed = int(input(\"Enter speed of vehicle:\"))\n",
        "\n",
        "if(speed <= 60):\n",
        "  print(\"Thanku.. There is no fine on your vehicle\")\n",
        "elif(speed>60):\n",
        "  print(\"Fine on your vehicle is 200 rupees\")\n",
        "\n",
        "\n"
      ],
      "metadata": {
        "colab": {
          "base_uri": "https://localhost:8080/"
        },
        "id": "CrlRH2Pq5g_4",
        "outputId": "a70a3c3d-b2f7-4a60-c2f2-c1ec6338a39e"
      },
      "execution_count": 22,
      "outputs": [
        {
          "output_type": "stream",
          "name": "stdout",
          "text": [
            "Calculator for Fine on Vehicle Speed\n",
            "Enter speed of vehicle:70\n",
            "Fine on your vehicle is 200 rupees\n"
          ]
        }
      ]
    },
    {
      "cell_type": "code",
      "source": [
        "#Water Bill check\n",
        "#Input water usage in liters:if>=5000->print \"Excess Usage\", else \"Normal Usage\"\n",
        "\n",
        "print(\"WaterBill Check\")\n",
        "liters= int(input(\"Enter Water usage in liters:\"))\n",
        "\n",
        "if(liters >= 5000):\n",
        "  print(\"Excess Usage\")\n",
        "else:\n",
        "  print(\"Normal Usage\")"
      ],
      "metadata": {
        "colab": {
          "base_uri": "https://localhost:8080/"
        },
        "id": "h35TXYv07PuB",
        "outputId": "6eef9b5f-03f7-4010-fc63-7b6f9a7432ce"
      },
      "execution_count": 24,
      "outputs": [
        {
          "output_type": "stream",
          "name": "stdout",
          "text": [
            "WaterBill Check\n",
            "Enter Water usage in liters:400\n",
            "Normal Usage\n"
          ]
        }
      ]
    },
    {
      "cell_type": "code",
      "source": [
        "#Exam pass/Fail\n",
        "#input marks; if>=40 ->pass else fail\n",
        "\n",
        "marks = float(input(\"Enter marks: \"))\n",
        "if(marks >= 40):\n",
        "  print(\"Your Pass\")\n",
        "\n",
        "else:\n",
        "  print(\"Your Fail\")"
      ],
      "metadata": {
        "colab": {
          "base_uri": "https://localhost:8080/"
        },
        "id": "qMQftWea83Q-",
        "outputId": "dc9687e8-eb5a-491b-e41e-eaaca28dfac6"
      },
      "execution_count": 26,
      "outputs": [
        {
          "output_type": "stream",
          "name": "stdout",
          "text": [
            "Enter marks: 35\n",
            "Your Fail\n"
          ]
        }
      ]
    },
    {
      "cell_type": "code",
      "source": [
        "# C: elif Ladder practice\n",
        "#Restaurant Menu\n",
        "# 1->Pizza , 2->Burger , 3 ->Pasta else -> Invalid CHoice\n",
        "\n",
        "print(\"Welcome to restaurant Menu..\")\n",
        "\n",
        "print(\"-------------------------------------------------------------\")\n",
        "print(\"Menu is: \")\n",
        "print(\"1->Pizza\")\n",
        "print(\"2->Burger \")\n",
        "print(\"3 ->Pasta\")\n",
        "\n",
        "print(\"-------------------------------------------------------------\")\n",
        "\n",
        "food = int(input(\"PLease selectfor pizza select 1, Burger select 2, pasta select 3\"))\n",
        "\n",
        "if(food == 1):\n",
        "   print(\"Thanku for order Pizza\")\n",
        "elif(food == 2):\n",
        "   print(\"Thanku for order Burger\")\n",
        "elif(food == 3):\n",
        "   print(\"Thanku for order Pasta\")\n",
        "else:\n",
        "   print(\"Invalid Input Sorry try again\")"
      ],
      "metadata": {
        "colab": {
          "base_uri": "https://localhost:8080/"
        },
        "id": "JjIblEdp91kS",
        "outputId": "623e787d-ff6f-449d-9ed6-d822457c5aee"
      },
      "execution_count": 28,
      "outputs": [
        {
          "output_type": "stream",
          "name": "stdout",
          "text": [
            "Welcome to restaurant Menu..\n",
            "-------------------------------------------------------------\n",
            "Menu is: \n",
            "1->Pizza\n",
            "2->Burger \n",
            "3 ->Pasta\n",
            "-------------------------------------------------------------\n",
            "PLease selectfor pizza select 1, Burger select 2, pasta select 33\n",
            "Thanku for order Pasta\n"
          ]
        }
      ]
    },
    {
      "cell_type": "code",
      "source": [
        "#grade System\n",
        "#>=90 ->A    ,>=75->B  ,>=60:C  . <60:D\n",
        "\n",
        "print(\"This is grade System...\")\n",
        "marks = float(input(\"Enter your marks: \"))\n",
        "if(marks >= 90):\n",
        "  print(\"A grade\")\n",
        "elif(marks >= 75):\n",
        "  print(\"B grade\")\n",
        "elif(marks >= 60):\n",
        "  print(\"C grade\")\n",
        "elif(marks < 60):\n",
        "  print(\"D grade\")\n",
        "elif(marks < 40):\n",
        "  print(\"FAIL\")\n"
      ],
      "metadata": {
        "colab": {
          "base_uri": "https://localhost:8080/"
        },
        "id": "pZGWFSeA91i8",
        "outputId": "6733e941-421d-4339-c6af-ceeaaad93d9a"
      },
      "execution_count": 31,
      "outputs": [
        {
          "output_type": "stream",
          "name": "stdout",
          "text": [
            "This is grade System...\n",
            "Enter your marks: 76.890\n",
            "B grade\n"
          ]
        }
      ]
    },
    {
      "cell_type": "code",
      "source": [
        "#Movie Ticket Pricing\n",
        "#age<12 ->100 ,age:12-59 ->150 ,age>=60 ->80\n",
        "print(\"Movie Ticket Pricing\")\n",
        "age= float(input(\"Enter your age: \"))\n",
        "if(age < 12):\n",
        "  print(\"Movie Ticket For person is 100 rupees..Thanku for Check\")\n",
        "elif( age <= 59 ):\n",
        "  print(\"Movie Ticket For person is 150 rupees..Thanku for Check\")\n",
        "elif(age >= 60):\n",
        "  print(\"Movie Ticket For person is 80 rupees..Thanku for Check\")\n"
      ],
      "metadata": {
        "colab": {
          "base_uri": "https://localhost:8080/"
        },
        "id": "_qimaCtMEZSH",
        "outputId": "248afa41-137a-432b-e5b3-16c6921c6806"
      },
      "execution_count": 37,
      "outputs": [
        {
          "output_type": "stream",
          "name": "stdout",
          "text": [
            "Movie Ticket Pricing\n",
            "Enter your age: 11\n",
            "Movie Ticket For person is 100 rupees..Thanku for Check\n"
          ]
        }
      ]
    },
    {
      "cell_type": "code",
      "source": [
        "#BMI Classification\n",
        "#UnderWeight ,NOrmal,OverWeight,Obese categories based on BMI formula."
      ],
      "metadata": {
        "id": "3juNSQ6BGBWg"
      },
      "execution_count": null,
      "outputs": []
    }
  ]
}